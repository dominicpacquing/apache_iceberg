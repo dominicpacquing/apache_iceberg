{
 "cells": [
  {
   "cell_type": "code",
   "execution_count": 1,
   "id": "72aeea9e-8e07-4798-834f-c1c42da5e1b2",
   "metadata": {},
   "outputs": [],
   "source": [
    "import pyspark\n",
    "from pyspark.sql import SparkSession\n",
    "import os"
   ]
  },
  {
   "cell_type": "code",
   "execution_count": 1,
   "id": "7c6899cf-d8f9-4ca3-8986-9b48aa2dc78b",
   "metadata": {},
   "outputs": [
    {
     "name": "stdout",
     "output_type": "stream",
     "text": [
      "Spark Running\n"
     ]
    },
    {
     "name": "stderr",
     "output_type": "stream",
     "text": [
      "24/08/22 02:35:23 WARN SparkSession: Using an existing Spark session; only runtime SQL configurations will take effect.\n"
     ]
    }
   ],
   "source": [
    "conf = (\n",
    "    pyspark.SparkConf()\n",
    "        .setAppName('iceberg_query')\n",
    "  \t\t#SQL Extensions\n",
    "        #Configuring Catalog\n",
    "        .set('spark.sql.extensions', 'org.apache.iceberg.spark.extensions.IcebergSparkSessionExtensions')\n",
    "        .set('spark.sql.catalog.iceberg_demo', 'org.apache.iceberg.spark.SparkCatalog')\n",
    "        .set('spark.sql.catalog.iceberg_demo.type', 'rest')\n",
    "        .set('spark.sql.catalog.iceberg_demo.uri', 'http://rest:8181')\n",
    "        .set('spark.sql.catalog.iceberg_demo.io-impl', 'org.apache.iceberg.aws.s3.S3FileIO')\n",
    "        .set('spark.sql.catalog.iceberg_demo.warehouse', 's3://warehouse')\n",
    "        .set('spark.sql.catalog.iceberg_demo.s3.endpoint', 'http://minio:9000')\n",
    "        .set('spark.sql.defaultCatalog', 'iceberg_demo')\n",
    ")\n",
    "\n",
    "## Start Spark Session\n",
    "spark = SparkSession.builder.config(conf=conf).getOrCreate()\n",
    "print(\"Spark Running\")"
   ]
  },
  {
   "cell_type": "code",
   "execution_count": 2,
   "id": "54227d4a-adc7-47a6-9b16-61983f5f7186",
   "metadata": {},
   "outputs": [
    {
     "name": "stderr",
     "output_type": "stream",
     "text": [
      "                                                                                \r"
     ]
    },
    {
     "name": "stdout",
     "output_type": "stream",
     "text": [
      "+------------+-----------------+---------+-----------+------+------+-------------------+-------------------+--------+------------------+-----------+--------------------+---+------+------+-----------+------------+--------+----+\n",
      "|competitorId|   competitorName|firstName|   lastName|status|gender|countryOfOriginCode|countryOfOriginName|regionId|        regionName|affiliateId|       affiliateName|age|height|weight|overallRank|overallScore|genderId|year|\n",
      "+------------+-----------------+---------+-----------+------+------+-------------------+-------------------+--------+------------------+-----------+--------------------+---+------+------+-----------+------------+--------+----+\n",
      "|      469656|    Jeffrey Adler|  Jeffrey|      Adler|   ACT|     M|                 CA|             Canada|      35|North America East|      18059| CrossFit Wonderland| 29| 69 in|197 lb|          1|         107|       1|2023|\n",
      "|      300638|   Tola Morakinyo|     Tola|  Morakinyo|   ACT|     M|                 US|      United States|      35|North America East|      19593|CrossFit East Nas...| 27| 72 in|212 lb|          2|         219|       1|2023|\n",
      "|      676693|   Colten Mertens|   Colten|    Mertens|   ACT|     M|                 US|      United States|      34|North America West|       1324|       CrossFit Kilo| 25| 64 in|180 lb|          3|         367|       1|2023|\n",
      "|      663689|Tyler Christophel|    Tyler|Christophel|   ACT|     M|                 US|      United States|      35|North America East|       3220|     CrossFit Mayhem| 33| 70 in|195 lb|          4|         375|       1|2023|\n",
      "|     1031875|  Roldan Goldbaum|   Roldan|   Goldbaum|   ACT|     M|                 MX|             Mexico|      34|North America West|      21264|Strong Suit CrossFit| 23|170 cm| 86 kg|          5|         526|       1|2023|\n",
      "|      327636| Samuel Cournoyer|   Samuel|  Cournoyer|   ACT|     M|                 CA|             Canada|      35|North America East|      28908|CrossFit ADM Chambly| 27|180 cm|205 lb|          6|         619|       1|2023|\n",
      "|       40955|     Ricky Garard|    Ricky|     Garard|   ACT|     M|                 AU|          Australia|      32|           Oceania|       9286|Fitness Alley Cro...| 29|179 cm|205 lb|          7|         633|       1|2023|\n",
      "|      671093|    Dallin Pepper|   Dallin|     Pepper|   ACT|     M|                 US|      United States|      35|North America East|       1893|     CrossFit Naples| 21| 72 in|215 lb|          8|         656|       1|2023|\n",
      "|      945268|      Reggie Fasa|   Reggie|       Fasa|   ACT|     M|                 GB|     United Kingdom|      29|            Europe|      16754|CrossFit Chester ...| 28|174 cm| 93 kg|          9|         668|       1|2023|\n",
      "|      642094|     Cam Crockett|      Cam|   Crockett|   ACT|     M|                 US|      United States|      35|North America East|       3637|      CrossFit Cadre| 25| 69 in|195 lb|         10|         679|       1|2023|\n",
      "+------------+-----------------+---------+-----------+------+------+-------------------+-------------------+--------+------------------+-----------+--------------------+---+------+------+-----------+------------+--------+----+\n",
      "\n"
     ]
    }
   ],
   "source": [
    "spark.sql(\"SELECT * FROM iceberg_demo.nyc.df_open_2023 limit 10;\").show()"
   ]
  },
  {
   "cell_type": "code",
   "execution_count": null,
   "id": "9b104122-84f6-46c8-ab91-381ec41724a5",
   "metadata": {},
   "outputs": [],
   "source": [
    "spark.stop()"
   ]
  },
  {
   "cell_type": "code",
   "execution_count": null,
   "id": "890b7b9f-5db4-4827-a013-f894dc040c98",
   "metadata": {},
   "outputs": [],
   "source": []
  }
 ],
 "metadata": {
  "kernelspec": {
   "display_name": "Python 3 (ipykernel)",
   "language": "python",
   "name": "python3"
  },
  "language_info": {
   "codemirror_mode": {
    "name": "ipython",
    "version": 3
   },
   "file_extension": ".py",
   "mimetype": "text/x-python",
   "name": "python",
   "nbconvert_exporter": "python",
   "pygments_lexer": "ipython3",
   "version": "3.9.18"
  }
 },
 "nbformat": 4,
 "nbformat_minor": 5
}
